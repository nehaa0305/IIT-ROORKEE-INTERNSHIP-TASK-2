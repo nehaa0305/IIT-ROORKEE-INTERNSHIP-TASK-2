{
 "cells": [
  {
   "cell_type": "code",
   "execution_count": null,
   "id": "004818a2-8842-4ba8-930a-377185eed7cc",
   "metadata": {},
   "outputs": [],
   "source": [
    "import os\n",
    "from pydub import AudioSegment\n",
    "import pandas as pd\n",
    "from datasets import Dataset, Audio, DatasetDict\n",
    "\n",
    "# Paths\n",
    "excel_path = \"path/to/excel_file.xlsx\"  \n",
    "audio_dir = \"path/to/audio_directory\"    \n",
    "output_audio_dir = \"path/to/output_audio_directory\"  \n",
    "\n",
    "\n",
    "df = pd.read_excel(excel_path)\n",
    "\n",
    "\n",
    "os.makedirs(output_audio_dir, exist_ok=True)\n",
    "\n",
    "\n",
    "def convert_mp3_to_wav(mp3_path, wav_path):\n",
    "    audio = AudioSegment.from_mp3(mp3_path)\n",
    "    audio.export(wav_path, format=\"wav\")\n",
    "\n",
    "\n",
    "dataset_records = []\n",
    "for index, row in df.iterrows():\n",
    "    term = row['term']  \n",
    "    phonetic = row['phonetic'] \n",
    "    mp3_path = os.path.join(audio_dir, f\"{term}.mp3\")\n",
    "    wav_path = os.path.join(output_audio_dir, f\"{term}.wav\")\n",
    "\n",
    "    if os.path.exists(mp3_path):\n",
    "       \n",
    "        convert_mp3_to_wav(mp3_path, wav_path)\n",
    "        dataset_records.append({\n",
    "            \"term\": term,\n",
    "            \"phonetic\": phonetic,\n",
    "            \"audio\": wav_path\n",
    "        })\n",
    "    else:\n",
    "        print(f\"Audio file for term '{term}' not found in {audio_dir}.\")\n",
    "\n",
    "# Create a Hugging Face Dataset\n",
    "dataset = Dataset.from_dict(dataset_records)\n",
    "dataset = dataset.cast_column(\"audio\", Audio())  # Cast audio files to Audio feature\n",
    "\n",
    "# Wrap dataset in DatasetDict if you want train/test split (optional)\n",
    "dataset_dict = DatasetDict({\"train\": dataset})\n",
    "\n",
    "# Save to Hugging Face format\n",
    "dataset_dict.push_to_hub(\"your-username/your-audio-dataset\")\n"
   ]
  }
 ],
 "metadata": {
  "kernelspec": {
   "display_name": "cuda-gpt",
   "language": "python",
   "name": "cuda"
  },
  "language_info": {
   "codemirror_mode": {
    "name": "ipython",
    "version": 3
   },
   "file_extension": ".py",
   "mimetype": "text/x-python",
   "name": "python",
   "nbconvert_exporter": "python",
   "pygments_lexer": "ipython3",
   "version": "3.11.7"
  }
 },
 "nbformat": 4,
 "nbformat_minor": 5
}
