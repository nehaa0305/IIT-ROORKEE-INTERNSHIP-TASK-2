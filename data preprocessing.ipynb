{
 "cells": [
  {
   "cell_type": "code",
   "execution_count": null,
   "id": "700e02b1-2619-40d4-b3c0-549e85a58b62",
   "metadata": {},
   "outputs": [],
   "source": [
    "from transformers import BertTokenizer, SpeechT5Processor\n",
    "import torch\n",
    "dataset = dataset.train_test_split(test_size=0.2)\n",
    "train_dataset = dataset[\"train\"]\n",
    "eval_dataset = dataset[\"test\"]\n",
    "\n",
    "\n",
    "bert_tokenizer = BertTokenizer.from_pretrained(\"bert-base-uncased\")\n",
    "\n",
    "speech_processor = SpeechT5Processor.from_pretrained(\"microsoft/speecht5_asr\")\n",
    "\n",
    "\n",
    "def preprocess_data(example):\n",
    "    \n",
    "    text_inputs = bert_tokenizer(\n",
    "        example[\"text\"], padding=\"max_length\", truncation=True, max_length=128, return_tensors=\"pt\"\n",
    "    )\n",
    "\n",
    "   \n",
    "    audio = example[\"audio\"][\"array\"]\n",
    "    audio_features = speech_processor(audio, sampling_rate=16000, return_tensors=\"pt\")\n",
    "    \n",
    "   \n",
    "    return {\n",
    "        \"input_ids\": text_inputs[\"input_ids\"].squeeze(),\n",
    "        \"attention_mask\": text_inputs[\"attention_mask\"].squeeze(),\n",
    "        \"speech_features\": audio_features.input_values.squeeze()\n",
    "    }\n",
    "\n",
    "\n",
    "train_dataset = train_dataset.map(preprocess_data, remove_columns=[\"text\", \"audio\"])\n",
    "eval_dataset = eval_dataset.map(preprocess_data, remove_columns=[\"text\", \"audio\"])\n"
   ]
  }
 ],
 "metadata": {
  "kernelspec": {
   "display_name": "cuda-gpt",
   "language": "python",
   "name": "cuda"
  },
  "language_info": {
   "codemirror_mode": {
    "name": "ipython",
    "version": 3
   },
   "file_extension": ".py",
   "mimetype": "text/x-python",
   "name": "python",
   "nbconvert_exporter": "python",
   "pygments_lexer": "ipython3",
   "version": "3.11.7"
  }
 },
 "nbformat": 4,
 "nbformat_minor": 5
}
